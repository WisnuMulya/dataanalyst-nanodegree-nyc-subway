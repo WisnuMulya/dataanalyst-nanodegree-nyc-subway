{
 "cells": [
  {
   "cell_type": "markdown",
   "metadata": {},
   "source": [
    "# Analyzing the NYC Subway Dataset\n",
    "\n",
    "## Section 1: Statistical Test\n",
    "Statistical test that is choosen to analyze this dataset is **Mann-Whitney U Test** because as will be seen below, the distribution of the sample is not following a Gaussian or Normal distribution. Therefore, it is appropriate to use Mann-Whitney U test, because unlike Welch's T test, it does not assume that the data come from any probability distribution.\n",
    "\n",
    "Furthermore, a testing could be conducted to make strong of the decision of using Mann-Whitney U test by performing **Shapiro-Wilk Test**, which will test whether the distribution of the sample is normally distributed.\n",
    "\n",
    "Moreover, since Mann-Whitney U test only tests whether the two samples come from the same population and not necessarily tells the direction of the test, the test will be a **two-tail test**.\n",
    "\n",
    "### P-Critical Value\n",
    "$$P_{\\text{Critical}} = .05$$\n",
    "\n",
    "### Hypotheses\n",
    "**Null Hypothesis**: The samples of entries on raining days and entries on clear days came from the same general population.\n",
    "$$H_0: \\mu_{\\text{Rain}}=\\mu_{\\text{Clear}}$$\n",
    "\n",
    "**Alternative Hypothesis**: The samples of entries on on raining days and entries on clear days came from different populations.\n",
    "$$H_1: \\mu{\\text:{Rain}}\\neq\\mu_{\\text{Clear}}$$\n"
   ]
  },
  {
   "cell_type": "code",
   "execution_count": 19,
   "metadata": {
    "collapsed": false
   },
   "outputs": [
    {
     "name": "stdout",
     "output_type": "stream",
     "text": [
      "Mean of sample entries when raining:  2028.19603547\n",
      "Mean of sample entries when clear:  1845.53943866\n",
      "Test Statistics (U value):  153635120.5\n",
      "P-Value:  2.74106957124e-06\n"
     ]
    }
   ],
   "source": [
    "import pandas as pd\n",
    "import numpy as np\n",
    "import scipy.stats\n",
    "\n",
    "# The path of the dataset CSV file\n",
    "path = r'improved-dataset/turnstile_weather_v2.csv'\n",
    "\n",
    "dataFrame = pd.read_csv(path)\n",
    "\n",
    "# Storing data of entries when rain and when clear\n",
    "withRain = dataFrame['ENTRIESn_hourly'][dataFrame['rain'] == 1]\n",
    "withoutRain = dataFrame['ENTRIESn_hourly'][dataFrame['rain'] == 0]\n",
    "\n",
    "# Calculating means of samples\n",
    "mean_withRain = np.mean(withRain)\n",
    "mean_withoutRain = np.mean(withoutRain)\n",
    "\n",
    "# Calculating Mann-Whitney U Test\n",
    "U, p = scipy.stats.mannwhitneyu(withRain, withoutRain)\n",
    "\n",
    "print 'Mean of sample entries when raining: ', mean_withRain\n",
    "print 'Mean of sample entries when clear: ', mean_withoutRain\n",
    "print 'Test Statistics (U value): ', U\n",
    "print 'P-Value: ', p"
   ]
  },
  {
   "cell_type": "markdown",
   "metadata": {},
   "source": [
    "### Results\n",
    "- Null Hypothesis is rejected because **p-value < p-critical**.\n",
    "- It is concluded that there is a probability of less than five percent for obtaining the U value and the samples come from the same population (Less than 5% probability of having a Type-I-Error).\n",
    "- It is reasonable to conclude that the samples come from different populations and there is a significance difference in number of NYC subway entries when it is raining and when it is not raining."
   ]
  },
  {
   "cell_type": "markdown",
   "metadata": {},
   "source": [
    "## Section 2: Linear Regression\n",
    "\n"
   ]
  },
  {
   "cell_type": "code",
   "execution_count": 41,
   "metadata": {
    "collapsed": false
   },
   "outputs": [
    {
     "name": "stdout",
     "output_type": "stream",
     "text": [
      "Intercept:  1190.29477449\n",
      "Parameters:\n",
      "hour         122.045050\n",
      "rain         136.603716\n",
      "meantempi     -8.883175\n",
      "dtype: float64 \n",
      "\n",
      "R Squared:  0.0833210998821\n"
     ]
    }
   ],
   "source": [
    "import statsmodels.api as sm\n",
    "\n",
    "# Storing input and output variables that would be used in the model\n",
    "features = dataFrame[['hour', 'rain', 'meantempi']]\n",
    "values = dataFrame['ENTRIESn_hourly']\n",
    "\n",
    "# Adding variable to calculate intercept\n",
    "featuresWithConstant = sm.add_constant(features)\n",
    "\n",
    "# Calculating linear regression using Ordinary Least Square\n",
    "model = sm.OLS(values, featuresWithConstant)\n",
    "results = model.fit()\n",
    "\n",
    "# Storing results\n",
    "intercept = results.params[0]\n",
    "params = results.params[1:]\n",
    "\n",
    "# Function to compute R^2\n",
    "def compute_r_squared(data, predictions):\n",
    "    # Sum of squared difference between data and predictions\n",
    "    dp_diff = np.square(data - predictions).sum()\n",
    "    \n",
    "    # Sum of squared difference between data and its mean\n",
    "    dmean_diff = np.square(data.map(lambda x: x - np.mean(data))).sum()\n",
    "    \n",
    "    r_squared = 1 - (dp_diff / dmean_diff)\n",
    "    \n",
    "    return r_squared\n",
    "\n",
    "# Making predictions based on parameters\n",
    "predictionValues = intercept + np.dot(features, params)\n",
    "\n",
    "# Compute R^2\n",
    "r_squared = compute_r_squared(values, predictionValues)\n",
    "\n",
    "print 'Intercept: ', intercept\n",
    "print 'Parameters:\\n', params, '\\n'\n",
    "print 'R Squared: ', r_squared"
   ]
  },
  {
   "cell_type": "markdown",
   "metadata": {},
   "source": [
    "### Results\n"
   ]
  },
  {
   "cell_type": "markdown",
   "metadata": {},
   "source": [
    "## Section 3: Visualization"
   ]
  },
  {
   "cell_type": "code",
   "execution_count": 26,
   "metadata": {
    "collapsed": true
   },
   "outputs": [],
   "source": [
    "from ggplot import *\n",
    "\n"
   ]
  },
  {
   "cell_type": "markdown",
   "metadata": {},
   "source": [
    "### Discussion"
   ]
  },
  {
   "cell_type": "markdown",
   "metadata": {},
   "source": [
    "## Section 4: Conclusion"
   ]
  }
 ],
 "metadata": {
  "kernelspec": {
   "display_name": "Python 2",
   "language": "python",
   "name": "python2"
  },
  "language_info": {
   "codemirror_mode": {
    "name": "ipython",
    "version": 2
   },
   "file_extension": ".py",
   "mimetype": "text/x-python",
   "name": "python",
   "nbconvert_exporter": "python",
   "pygments_lexer": "ipython2",
   "version": "2.7.11"
  }
 },
 "nbformat": 4,
 "nbformat_minor": 0
}
